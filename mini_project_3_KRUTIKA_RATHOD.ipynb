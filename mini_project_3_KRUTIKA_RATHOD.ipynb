{
 "cells": [
  {
   "cell_type": "code",
   "execution_count": 38,
   "id": "bf68ff78",
   "metadata": {},
   "outputs": [],
   "source": [
    "# importing libraries\n",
    "\n",
    "import numpy as np\n",
    "import pandas as pd\n",
    "import matplotlib.pyplot as plt\n",
    "from sklearn.cluster import KMeans\n",
    "import seaborn as sns"
   ]
  },
  {
   "cell_type": "code",
   "execution_count": 2,
   "id": "f6d24c06",
   "metadata": {},
   "outputs": [
    {
     "data": {
      "text/html": [
       "<div>\n",
       "<style scoped>\n",
       "    .dataframe tbody tr th:only-of-type {\n",
       "        vertical-align: middle;\n",
       "    }\n",
       "\n",
       "    .dataframe tbody tr th {\n",
       "        vertical-align: top;\n",
       "    }\n",
       "\n",
       "    .dataframe thead th {\n",
       "        text-align: right;\n",
       "    }\n",
       "</style>\n",
       "<table border=\"1\" class=\"dataframe\">\n",
       "  <thead>\n",
       "    <tr style=\"text-align: right;\">\n",
       "      <th></th>\n",
       "      <th>ID</th>\n",
       "      <th>Year_Birth</th>\n",
       "      <th>Education</th>\n",
       "      <th>Marital_Status</th>\n",
       "      <th>Income</th>\n",
       "      <th>Kidhome</th>\n",
       "      <th>Teenhome</th>\n",
       "      <th>Dt_Customer</th>\n",
       "      <th>Recency</th>\n",
       "      <th>MntWines</th>\n",
       "      <th>...</th>\n",
       "      <th>NumWebVisitsMonth</th>\n",
       "      <th>AcceptedCmp3</th>\n",
       "      <th>AcceptedCmp4</th>\n",
       "      <th>AcceptedCmp5</th>\n",
       "      <th>AcceptedCmp1</th>\n",
       "      <th>AcceptedCmp2</th>\n",
       "      <th>Complain</th>\n",
       "      <th>Z_CostContact</th>\n",
       "      <th>Z_Revenue</th>\n",
       "      <th>Response</th>\n",
       "    </tr>\n",
       "  </thead>\n",
       "  <tbody>\n",
       "    <tr>\n",
       "      <th>0</th>\n",
       "      <td>5524</td>\n",
       "      <td>1957</td>\n",
       "      <td>Graduation</td>\n",
       "      <td>Single</td>\n",
       "      <td>58138.0</td>\n",
       "      <td>0</td>\n",
       "      <td>0</td>\n",
       "      <td>04/09/12</td>\n",
       "      <td>58</td>\n",
       "      <td>635</td>\n",
       "      <td>...</td>\n",
       "      <td>7</td>\n",
       "      <td>0</td>\n",
       "      <td>0</td>\n",
       "      <td>0</td>\n",
       "      <td>0</td>\n",
       "      <td>0</td>\n",
       "      <td>0</td>\n",
       "      <td>3</td>\n",
       "      <td>11</td>\n",
       "      <td>1</td>\n",
       "    </tr>\n",
       "    <tr>\n",
       "      <th>1</th>\n",
       "      <td>2174</td>\n",
       "      <td>1954</td>\n",
       "      <td>Graduation</td>\n",
       "      <td>Single</td>\n",
       "      <td>46344.0</td>\n",
       "      <td>1</td>\n",
       "      <td>1</td>\n",
       "      <td>08/03/14</td>\n",
       "      <td>38</td>\n",
       "      <td>11</td>\n",
       "      <td>...</td>\n",
       "      <td>5</td>\n",
       "      <td>0</td>\n",
       "      <td>0</td>\n",
       "      <td>0</td>\n",
       "      <td>0</td>\n",
       "      <td>0</td>\n",
       "      <td>0</td>\n",
       "      <td>3</td>\n",
       "      <td>11</td>\n",
       "      <td>0</td>\n",
       "    </tr>\n",
       "    <tr>\n",
       "      <th>2</th>\n",
       "      <td>4141</td>\n",
       "      <td>1965</td>\n",
       "      <td>Graduation</td>\n",
       "      <td>Together</td>\n",
       "      <td>71613.0</td>\n",
       "      <td>0</td>\n",
       "      <td>0</td>\n",
       "      <td>21/08/13</td>\n",
       "      <td>26</td>\n",
       "      <td>426</td>\n",
       "      <td>...</td>\n",
       "      <td>4</td>\n",
       "      <td>0</td>\n",
       "      <td>0</td>\n",
       "      <td>0</td>\n",
       "      <td>0</td>\n",
       "      <td>0</td>\n",
       "      <td>0</td>\n",
       "      <td>3</td>\n",
       "      <td>11</td>\n",
       "      <td>0</td>\n",
       "    </tr>\n",
       "    <tr>\n",
       "      <th>3</th>\n",
       "      <td>6182</td>\n",
       "      <td>1984</td>\n",
       "      <td>Graduation</td>\n",
       "      <td>Together</td>\n",
       "      <td>26646.0</td>\n",
       "      <td>1</td>\n",
       "      <td>0</td>\n",
       "      <td>10/02/14</td>\n",
       "      <td>26</td>\n",
       "      <td>11</td>\n",
       "      <td>...</td>\n",
       "      <td>6</td>\n",
       "      <td>0</td>\n",
       "      <td>0</td>\n",
       "      <td>0</td>\n",
       "      <td>0</td>\n",
       "      <td>0</td>\n",
       "      <td>0</td>\n",
       "      <td>3</td>\n",
       "      <td>11</td>\n",
       "      <td>0</td>\n",
       "    </tr>\n",
       "    <tr>\n",
       "      <th>4</th>\n",
       "      <td>5324</td>\n",
       "      <td>1981</td>\n",
       "      <td>PhD</td>\n",
       "      <td>Married</td>\n",
       "      <td>58293.0</td>\n",
       "      <td>1</td>\n",
       "      <td>0</td>\n",
       "      <td>19/01/14</td>\n",
       "      <td>94</td>\n",
       "      <td>173</td>\n",
       "      <td>...</td>\n",
       "      <td>5</td>\n",
       "      <td>0</td>\n",
       "      <td>0</td>\n",
       "      <td>0</td>\n",
       "      <td>0</td>\n",
       "      <td>0</td>\n",
       "      <td>0</td>\n",
       "      <td>3</td>\n",
       "      <td>11</td>\n",
       "      <td>0</td>\n",
       "    </tr>\n",
       "  </tbody>\n",
       "</table>\n",
       "<p>5 rows × 29 columns</p>\n",
       "</div>"
      ],
      "text/plain": [
       "     ID  Year_Birth   Education Marital_Status   Income  Kidhome  Teenhome  \\\n",
       "0  5524        1957  Graduation         Single  58138.0        0         0   \n",
       "1  2174        1954  Graduation         Single  46344.0        1         1   \n",
       "2  4141        1965  Graduation       Together  71613.0        0         0   \n",
       "3  6182        1984  Graduation       Together  26646.0        1         0   \n",
       "4  5324        1981         PhD        Married  58293.0        1         0   \n",
       "\n",
       "  Dt_Customer  Recency  MntWines  ...  NumWebVisitsMonth  AcceptedCmp3  \\\n",
       "0    04/09/12       58       635  ...                  7             0   \n",
       "1    08/03/14       38        11  ...                  5             0   \n",
       "2    21/08/13       26       426  ...                  4             0   \n",
       "3    10/02/14       26        11  ...                  6             0   \n",
       "4    19/01/14       94       173  ...                  5             0   \n",
       "\n",
       "   AcceptedCmp4  AcceptedCmp5  AcceptedCmp1  AcceptedCmp2  Complain  \\\n",
       "0             0             0             0             0         0   \n",
       "1             0             0             0             0         0   \n",
       "2             0             0             0             0         0   \n",
       "3             0             0             0             0         0   \n",
       "4             0             0             0             0         0   \n",
       "\n",
       "   Z_CostContact  Z_Revenue  Response  \n",
       "0              3         11         1  \n",
       "1              3         11         0  \n",
       "2              3         11         0  \n",
       "3              3         11         0  \n",
       "4              3         11         0  \n",
       "\n",
       "[5 rows x 29 columns]"
      ]
     },
     "execution_count": 2,
     "metadata": {},
     "output_type": "execute_result"
    }
   ],
   "source": [
    "# loading data\n",
    "\n",
    "df = pd.read_csv('Customer_data.csv')\n",
    "df.head()"
   ]
  },
  {
   "cell_type": "code",
   "execution_count": null,
   "id": "f6474278",
   "metadata": {},
   "outputs": [],
   "source": [
    "# checking statistical information such as size , shape , describe , info"
   ]
  },
  {
   "cell_type": "code",
   "execution_count": 30,
   "id": "367cf527",
   "metadata": {},
   "outputs": [
    {
     "data": {
      "text/plain": [
       "(2240, 29)"
      ]
     },
     "execution_count": 30,
     "metadata": {},
     "output_type": "execute_result"
    }
   ],
   "source": [
    "df.shape"
   ]
  },
  {
   "cell_type": "code",
   "execution_count": 29,
   "id": "d8e2b79a",
   "metadata": {},
   "outputs": [
    {
     "data": {
      "text/plain": [
       "64960"
      ]
     },
     "execution_count": 29,
     "metadata": {},
     "output_type": "execute_result"
    }
   ],
   "source": [
    "df.size"
   ]
  },
  {
   "cell_type": "code",
   "execution_count": 31,
   "id": "a16cc91a",
   "metadata": {},
   "outputs": [
    {
     "name": "stdout",
     "output_type": "stream",
     "text": [
      "<class 'pandas.core.frame.DataFrame'>\n",
      "RangeIndex: 2240 entries, 0 to 2239\n",
      "Data columns (total 29 columns):\n",
      " #   Column               Non-Null Count  Dtype  \n",
      "---  ------               --------------  -----  \n",
      " 0   ID                   2240 non-null   int64  \n",
      " 1   Year_Birth           2240 non-null   int64  \n",
      " 2   Education            2240 non-null   object \n",
      " 3   Marital_Status       2240 non-null   object \n",
      " 4   Income               2216 non-null   float64\n",
      " 5   Kidhome              2240 non-null   int64  \n",
      " 6   Teenhome             2240 non-null   int64  \n",
      " 7   Dt_Customer          2240 non-null   object \n",
      " 8   Recency              2240 non-null   int64  \n",
      " 9   MntWines             2240 non-null   int64  \n",
      " 10  MntFruits            2240 non-null   int64  \n",
      " 11  MntMeatProducts      2240 non-null   int64  \n",
      " 12  MntFishProducts      2240 non-null   int64  \n",
      " 13  MntSweetProducts     2240 non-null   int64  \n",
      " 14  MntGoldProds         2240 non-null   int64  \n",
      " 15  NumDealsPurchases    2240 non-null   int64  \n",
      " 16  NumWebPurchases      2240 non-null   int64  \n",
      " 17  NumCatalogPurchases  2240 non-null   int64  \n",
      " 18  NumStorePurchases    2240 non-null   int64  \n",
      " 19  NumWebVisitsMonth    2240 non-null   int64  \n",
      " 20  AcceptedCmp3         2240 non-null   int64  \n",
      " 21  AcceptedCmp4         2240 non-null   int64  \n",
      " 22  AcceptedCmp5         2240 non-null   int64  \n",
      " 23  AcceptedCmp1         2240 non-null   int64  \n",
      " 24  AcceptedCmp2         2240 non-null   int64  \n",
      " 25  Complain             2240 non-null   int64  \n",
      " 26  Z_CostContact        2240 non-null   int64  \n",
      " 27  Z_Revenue            2240 non-null   int64  \n",
      " 28  Response             2240 non-null   int64  \n",
      "dtypes: float64(1), int64(25), object(3)\n",
      "memory usage: 507.6+ KB\n"
     ]
    }
   ],
   "source": [
    "df.info()"
   ]
  },
  {
   "cell_type": "code",
   "execution_count": 32,
   "id": "2bdaf9ea",
   "metadata": {},
   "outputs": [
    {
     "data": {
      "text/html": [
       "<div>\n",
       "<style scoped>\n",
       "    .dataframe tbody tr th:only-of-type {\n",
       "        vertical-align: middle;\n",
       "    }\n",
       "\n",
       "    .dataframe tbody tr th {\n",
       "        vertical-align: top;\n",
       "    }\n",
       "\n",
       "    .dataframe thead th {\n",
       "        text-align: right;\n",
       "    }\n",
       "</style>\n",
       "<table border=\"1\" class=\"dataframe\">\n",
       "  <thead>\n",
       "    <tr style=\"text-align: right;\">\n",
       "      <th></th>\n",
       "      <th>ID</th>\n",
       "      <th>Year_Birth</th>\n",
       "      <th>Income</th>\n",
       "      <th>Kidhome</th>\n",
       "      <th>Teenhome</th>\n",
       "      <th>Recency</th>\n",
       "      <th>MntWines</th>\n",
       "      <th>MntFruits</th>\n",
       "      <th>MntMeatProducts</th>\n",
       "      <th>MntFishProducts</th>\n",
       "      <th>...</th>\n",
       "      <th>NumWebVisitsMonth</th>\n",
       "      <th>AcceptedCmp3</th>\n",
       "      <th>AcceptedCmp4</th>\n",
       "      <th>AcceptedCmp5</th>\n",
       "      <th>AcceptedCmp1</th>\n",
       "      <th>AcceptedCmp2</th>\n",
       "      <th>Complain</th>\n",
       "      <th>Z_CostContact</th>\n",
       "      <th>Z_Revenue</th>\n",
       "      <th>Response</th>\n",
       "    </tr>\n",
       "  </thead>\n",
       "  <tbody>\n",
       "    <tr>\n",
       "      <th>count</th>\n",
       "      <td>2240.000000</td>\n",
       "      <td>2240.000000</td>\n",
       "      <td>2216.000000</td>\n",
       "      <td>2240.000000</td>\n",
       "      <td>2240.000000</td>\n",
       "      <td>2240.000000</td>\n",
       "      <td>2240.000000</td>\n",
       "      <td>2240.000000</td>\n",
       "      <td>2240.000000</td>\n",
       "      <td>2240.000000</td>\n",
       "      <td>...</td>\n",
       "      <td>2240.000000</td>\n",
       "      <td>2240.000000</td>\n",
       "      <td>2240.000000</td>\n",
       "      <td>2240.000000</td>\n",
       "      <td>2240.000000</td>\n",
       "      <td>2240.000000</td>\n",
       "      <td>2240.000000</td>\n",
       "      <td>2240.0</td>\n",
       "      <td>2240.0</td>\n",
       "      <td>2240.000000</td>\n",
       "    </tr>\n",
       "    <tr>\n",
       "      <th>mean</th>\n",
       "      <td>5592.159821</td>\n",
       "      <td>1968.805804</td>\n",
       "      <td>52247.251354</td>\n",
       "      <td>0.444196</td>\n",
       "      <td>0.506250</td>\n",
       "      <td>49.109375</td>\n",
       "      <td>303.935714</td>\n",
       "      <td>26.302232</td>\n",
       "      <td>166.950000</td>\n",
       "      <td>37.525446</td>\n",
       "      <td>...</td>\n",
       "      <td>5.316518</td>\n",
       "      <td>0.072768</td>\n",
       "      <td>0.074554</td>\n",
       "      <td>0.072768</td>\n",
       "      <td>0.064286</td>\n",
       "      <td>0.013393</td>\n",
       "      <td>0.009375</td>\n",
       "      <td>3.0</td>\n",
       "      <td>11.0</td>\n",
       "      <td>0.149107</td>\n",
       "    </tr>\n",
       "    <tr>\n",
       "      <th>std</th>\n",
       "      <td>3246.662198</td>\n",
       "      <td>11.984069</td>\n",
       "      <td>25173.076661</td>\n",
       "      <td>0.538398</td>\n",
       "      <td>0.544538</td>\n",
       "      <td>28.962453</td>\n",
       "      <td>336.597393</td>\n",
       "      <td>39.773434</td>\n",
       "      <td>225.715373</td>\n",
       "      <td>54.628979</td>\n",
       "      <td>...</td>\n",
       "      <td>2.426645</td>\n",
       "      <td>0.259813</td>\n",
       "      <td>0.262728</td>\n",
       "      <td>0.259813</td>\n",
       "      <td>0.245316</td>\n",
       "      <td>0.114976</td>\n",
       "      <td>0.096391</td>\n",
       "      <td>0.0</td>\n",
       "      <td>0.0</td>\n",
       "      <td>0.356274</td>\n",
       "    </tr>\n",
       "    <tr>\n",
       "      <th>min</th>\n",
       "      <td>0.000000</td>\n",
       "      <td>1893.000000</td>\n",
       "      <td>1730.000000</td>\n",
       "      <td>0.000000</td>\n",
       "      <td>0.000000</td>\n",
       "      <td>0.000000</td>\n",
       "      <td>0.000000</td>\n",
       "      <td>0.000000</td>\n",
       "      <td>0.000000</td>\n",
       "      <td>0.000000</td>\n",
       "      <td>...</td>\n",
       "      <td>0.000000</td>\n",
       "      <td>0.000000</td>\n",
       "      <td>0.000000</td>\n",
       "      <td>0.000000</td>\n",
       "      <td>0.000000</td>\n",
       "      <td>0.000000</td>\n",
       "      <td>0.000000</td>\n",
       "      <td>3.0</td>\n",
       "      <td>11.0</td>\n",
       "      <td>0.000000</td>\n",
       "    </tr>\n",
       "    <tr>\n",
       "      <th>25%</th>\n",
       "      <td>2828.250000</td>\n",
       "      <td>1959.000000</td>\n",
       "      <td>35303.000000</td>\n",
       "      <td>0.000000</td>\n",
       "      <td>0.000000</td>\n",
       "      <td>24.000000</td>\n",
       "      <td>23.750000</td>\n",
       "      <td>1.000000</td>\n",
       "      <td>16.000000</td>\n",
       "      <td>3.000000</td>\n",
       "      <td>...</td>\n",
       "      <td>3.000000</td>\n",
       "      <td>0.000000</td>\n",
       "      <td>0.000000</td>\n",
       "      <td>0.000000</td>\n",
       "      <td>0.000000</td>\n",
       "      <td>0.000000</td>\n",
       "      <td>0.000000</td>\n",
       "      <td>3.0</td>\n",
       "      <td>11.0</td>\n",
       "      <td>0.000000</td>\n",
       "    </tr>\n",
       "    <tr>\n",
       "      <th>50%</th>\n",
       "      <td>5458.500000</td>\n",
       "      <td>1970.000000</td>\n",
       "      <td>51381.500000</td>\n",
       "      <td>0.000000</td>\n",
       "      <td>0.000000</td>\n",
       "      <td>49.000000</td>\n",
       "      <td>173.500000</td>\n",
       "      <td>8.000000</td>\n",
       "      <td>67.000000</td>\n",
       "      <td>12.000000</td>\n",
       "      <td>...</td>\n",
       "      <td>6.000000</td>\n",
       "      <td>0.000000</td>\n",
       "      <td>0.000000</td>\n",
       "      <td>0.000000</td>\n",
       "      <td>0.000000</td>\n",
       "      <td>0.000000</td>\n",
       "      <td>0.000000</td>\n",
       "      <td>3.0</td>\n",
       "      <td>11.0</td>\n",
       "      <td>0.000000</td>\n",
       "    </tr>\n",
       "    <tr>\n",
       "      <th>75%</th>\n",
       "      <td>8427.750000</td>\n",
       "      <td>1977.000000</td>\n",
       "      <td>68522.000000</td>\n",
       "      <td>1.000000</td>\n",
       "      <td>1.000000</td>\n",
       "      <td>74.000000</td>\n",
       "      <td>504.250000</td>\n",
       "      <td>33.000000</td>\n",
       "      <td>232.000000</td>\n",
       "      <td>50.000000</td>\n",
       "      <td>...</td>\n",
       "      <td>7.000000</td>\n",
       "      <td>0.000000</td>\n",
       "      <td>0.000000</td>\n",
       "      <td>0.000000</td>\n",
       "      <td>0.000000</td>\n",
       "      <td>0.000000</td>\n",
       "      <td>0.000000</td>\n",
       "      <td>3.0</td>\n",
       "      <td>11.0</td>\n",
       "      <td>0.000000</td>\n",
       "    </tr>\n",
       "    <tr>\n",
       "      <th>max</th>\n",
       "      <td>11191.000000</td>\n",
       "      <td>1996.000000</td>\n",
       "      <td>666666.000000</td>\n",
       "      <td>2.000000</td>\n",
       "      <td>2.000000</td>\n",
       "      <td>99.000000</td>\n",
       "      <td>1493.000000</td>\n",
       "      <td>199.000000</td>\n",
       "      <td>1725.000000</td>\n",
       "      <td>259.000000</td>\n",
       "      <td>...</td>\n",
       "      <td>20.000000</td>\n",
       "      <td>1.000000</td>\n",
       "      <td>1.000000</td>\n",
       "      <td>1.000000</td>\n",
       "      <td>1.000000</td>\n",
       "      <td>1.000000</td>\n",
       "      <td>1.000000</td>\n",
       "      <td>3.0</td>\n",
       "      <td>11.0</td>\n",
       "      <td>1.000000</td>\n",
       "    </tr>\n",
       "  </tbody>\n",
       "</table>\n",
       "<p>8 rows × 26 columns</p>\n",
       "</div>"
      ],
      "text/plain": [
       "                 ID   Year_Birth         Income      Kidhome     Teenhome  \\\n",
       "count   2240.000000  2240.000000    2216.000000  2240.000000  2240.000000   \n",
       "mean    5592.159821  1968.805804   52247.251354     0.444196     0.506250   \n",
       "std     3246.662198    11.984069   25173.076661     0.538398     0.544538   \n",
       "min        0.000000  1893.000000    1730.000000     0.000000     0.000000   \n",
       "25%     2828.250000  1959.000000   35303.000000     0.000000     0.000000   \n",
       "50%     5458.500000  1970.000000   51381.500000     0.000000     0.000000   \n",
       "75%     8427.750000  1977.000000   68522.000000     1.000000     1.000000   \n",
       "max    11191.000000  1996.000000  666666.000000     2.000000     2.000000   \n",
       "\n",
       "           Recency     MntWines    MntFruits  MntMeatProducts  \\\n",
       "count  2240.000000  2240.000000  2240.000000      2240.000000   \n",
       "mean     49.109375   303.935714    26.302232       166.950000   \n",
       "std      28.962453   336.597393    39.773434       225.715373   \n",
       "min       0.000000     0.000000     0.000000         0.000000   \n",
       "25%      24.000000    23.750000     1.000000        16.000000   \n",
       "50%      49.000000   173.500000     8.000000        67.000000   \n",
       "75%      74.000000   504.250000    33.000000       232.000000   \n",
       "max      99.000000  1493.000000   199.000000      1725.000000   \n",
       "\n",
       "       MntFishProducts  ...  NumWebVisitsMonth  AcceptedCmp3  AcceptedCmp4  \\\n",
       "count      2240.000000  ...        2240.000000   2240.000000   2240.000000   \n",
       "mean         37.525446  ...           5.316518      0.072768      0.074554   \n",
       "std          54.628979  ...           2.426645      0.259813      0.262728   \n",
       "min           0.000000  ...           0.000000      0.000000      0.000000   \n",
       "25%           3.000000  ...           3.000000      0.000000      0.000000   \n",
       "50%          12.000000  ...           6.000000      0.000000      0.000000   \n",
       "75%          50.000000  ...           7.000000      0.000000      0.000000   \n",
       "max         259.000000  ...          20.000000      1.000000      1.000000   \n",
       "\n",
       "       AcceptedCmp5  AcceptedCmp1  AcceptedCmp2     Complain  Z_CostContact  \\\n",
       "count   2240.000000   2240.000000   2240.000000  2240.000000         2240.0   \n",
       "mean       0.072768      0.064286      0.013393     0.009375            3.0   \n",
       "std        0.259813      0.245316      0.114976     0.096391            0.0   \n",
       "min        0.000000      0.000000      0.000000     0.000000            3.0   \n",
       "25%        0.000000      0.000000      0.000000     0.000000            3.0   \n",
       "50%        0.000000      0.000000      0.000000     0.000000            3.0   \n",
       "75%        0.000000      0.000000      0.000000     0.000000            3.0   \n",
       "max        1.000000      1.000000      1.000000     1.000000            3.0   \n",
       "\n",
       "       Z_Revenue     Response  \n",
       "count     2240.0  2240.000000  \n",
       "mean        11.0     0.149107  \n",
       "std          0.0     0.356274  \n",
       "min         11.0     0.000000  \n",
       "25%         11.0     0.000000  \n",
       "50%         11.0     0.000000  \n",
       "75%         11.0     0.000000  \n",
       "max         11.0     1.000000  \n",
       "\n",
       "[8 rows x 26 columns]"
      ]
     },
     "execution_count": 32,
     "metadata": {},
     "output_type": "execute_result"
    }
   ],
   "source": [
    "df.describe()"
   ]
  },
  {
   "cell_type": "code",
   "execution_count": 33,
   "id": "a6f4a869",
   "metadata": {},
   "outputs": [
    {
     "data": {
      "text/plain": [
       "ID                      0\n",
       "Year_Birth              0\n",
       "Education               0\n",
       "Marital_Status          0\n",
       "Income                 24\n",
       "Kidhome                 0\n",
       "Teenhome                0\n",
       "Dt_Customer             0\n",
       "Recency                 0\n",
       "MntWines                0\n",
       "MntFruits               0\n",
       "MntMeatProducts         0\n",
       "MntFishProducts         0\n",
       "MntSweetProducts        0\n",
       "MntGoldProds            0\n",
       "NumDealsPurchases       0\n",
       "NumWebPurchases         0\n",
       "NumCatalogPurchases     0\n",
       "NumStorePurchases       0\n",
       "NumWebVisitsMonth       0\n",
       "AcceptedCmp3            0\n",
       "AcceptedCmp4            0\n",
       "AcceptedCmp5            0\n",
       "AcceptedCmp1            0\n",
       "AcceptedCmp2            0\n",
       "Complain                0\n",
       "Z_CostContact           0\n",
       "Z_Revenue               0\n",
       "Response                0\n",
       "dtype: int64"
      ]
     },
     "execution_count": 33,
     "metadata": {},
     "output_type": "execute_result"
    }
   ],
   "source": [
    "# checking null values\n",
    "df.isnull().sum() "
   ]
  },
  {
   "cell_type": "code",
   "execution_count": 3,
   "id": "c4f06e44",
   "metadata": {},
   "outputs": [
    {
     "data": {
      "text/plain": [
       "(2240, 29)"
      ]
     },
     "execution_count": 3,
     "metadata": {},
     "output_type": "execute_result"
    }
   ],
   "source": [
    "# treatment on null values ( using mean method)\n",
    "df1 = df.fillna(df['Income'].mean())\n",
    "df1.shape"
   ]
  },
  {
   "cell_type": "code",
   "execution_count": 39,
   "id": "bbc55e42",
   "metadata": {},
   "outputs": [
    {
     "data": {
      "image/png": "[encoded data removed]",
      "text/plain": [
       "<Figure size 640x480 with 1 Axes>"
      ]
     },
     "metadata": {},
     "output_type": "display_data"
    }
   ],
   "source": [
    "# boxplot (to identify outliers)\n",
    "\n",
    "sns.boxplot(df1['Income'])\n",
    "plt.show()"
   ]
  },
  {
   "cell_type": "code",
   "execution_count": 41,
   "id": "6b98146a",
   "metadata": {},
   "outputs": [
    {
     "name": "stdout",
     "output_type": "stream",
     "text": [
      "Old Shape:  (2240, 30)\n",
      "117446.0 -13614.0\n"
     ]
    }
   ],
   "source": [
    "# IQR\n",
    "\n",
    "Q1 = np.percentile(df1['Income'], 25,interpolation = 'midpoint')\n",
    " \n",
    "Q3 = np.percentile(df1['Income'], 75,interpolation = 'midpoint')\n",
    "IQR = Q3 - Q1\n",
    " \n",
    "print(\"Old Shape: \", df1.shape)\n",
    " \n",
    "# Upper bound\n",
    "upper=Q3+1.5*IQR\n",
    "upper_array=np.array(df1['Income']>=upper)\n",
    "# Lower bound\n",
    "lower=Q1-1.5*IQR\n",
    "lower_array=np.array(df['Income']<=lower)\n",
    "print(upper,lower)\n",
    "df1=df1[df1[\"Income\"]<upper]"
   ]
  },
  {
   "cell_type": "code",
   "execution_count": 42,
   "id": "75bf4949",
   "metadata": {},
   "outputs": [
    {
     "data": {
      "image/png": "[encoded data removed]",
      "text/plain": [
       "<Figure size 640x480 with 1 Axes>"
      ]
     },
     "metadata": {},
     "output_type": "display_data"
    }
   ],
   "source": [
    "sns.boxplot(df1['Income'])\n",
    "plt.show()"
   ]
  },
  {
   "cell_type": "code",
   "execution_count": 44,
   "id": "cd61c145",
   "metadata": {},
   "outputs": [
    {
     "data": {
      "text/plain": [
       "ID                     0\n",
       "Year_Birth             0\n",
       "Education              0\n",
       "Marital_Status         0\n",
       "Income                 0\n",
       "Kidhome                0\n",
       "Teenhome               0\n",
       "Dt_Customer            0\n",
       "Recency                0\n",
       "MntWines               0\n",
       "MntFruits              0\n",
       "MntMeatProducts        0\n",
       "MntFishProducts        0\n",
       "MntSweetProducts       0\n",
       "MntGoldProds           0\n",
       "NumDealsPurchases      0\n",
       "NumWebPurchases        0\n",
       "NumCatalogPurchases    0\n",
       "NumStorePurchases      0\n",
       "NumWebVisitsMonth      0\n",
       "AcceptedCmp3           0\n",
       "AcceptedCmp4           0\n",
       "AcceptedCmp5           0\n",
       "AcceptedCmp1           0\n",
       "AcceptedCmp2           0\n",
       "Complain               0\n",
       "Z_CostContact          0\n",
       "Z_Revenue              0\n",
       "Response               0\n",
       "cluster                0\n",
       "dtype: int64"
      ]
     },
     "execution_count": 44,
     "metadata": {},
     "output_type": "execute_result"
    }
   ],
   "source": [
    "df1.isnull().sum()"
   ]
  },
  {
   "cell_type": "code",
   "execution_count": 45,
   "id": "3e100cb8",
   "metadata": {},
   "outputs": [
    {
     "data": {
      "text/plain": [
       "(2232, 7)"
      ]
     },
     "execution_count": 45,
     "metadata": {},
     "output_type": "execute_result"
    }
   ],
   "source": [
    "X = df1.iloc[:,[4,9,10,11,12,13,14]].values\n",
    "X.shape"
   ]
  },
  {
   "cell_type": "code",
   "execution_count": 46,
   "id": "dc07461e",
   "metadata": {},
   "outputs": [
    {
     "data": {
      "text/plain": [
       "array([[5.81380000e+04, 6.35000000e+02, 8.80000000e+01, 5.46000000e+02,\n",
       "        1.72000000e+02, 8.80000000e+01, 8.80000000e+01],\n",
       "       [4.63440000e+04, 1.10000000e+01, 1.00000000e+00, 6.00000000e+00,\n",
       "        2.00000000e+00, 1.00000000e+00, 6.00000000e+00],\n",
       "       [7.16130000e+04, 4.26000000e+02, 4.90000000e+01, 1.27000000e+02,\n",
       "        1.11000000e+02, 2.10000000e+01, 4.20000000e+01],\n",
       "       [2.66460000e+04, 1.10000000e+01, 4.00000000e+00, 2.00000000e+01,\n",
       "        1.00000000e+01, 3.00000000e+00, 5.00000000e+00],\n",
       "       [5.82930000e+04, 1.73000000e+02, 4.30000000e+01, 1.18000000e+02,\n",
       "        4.60000000e+01, 2.70000000e+01, 1.50000000e+01],\n",
       "       [6.25130000e+04, 5.20000000e+02, 4.20000000e+01, 9.80000000e+01,\n",
       "        0.00000000e+00, 4.20000000e+01, 1.40000000e+01],\n",
       "       [5.56350000e+04, 2.35000000e+02, 6.50000000e+01, 1.64000000e+02,\n",
       "        5.00000000e+01, 4.90000000e+01, 2.70000000e+01],\n",
       "       [3.34540000e+04, 7.60000000e+01, 1.00000000e+01, 5.60000000e+01,\n",
       "        3.00000000e+00, 1.00000000e+00, 2.30000000e+01],\n",
       "       [3.03510000e+04, 1.40000000e+01, 0.00000000e+00, 2.40000000e+01,\n",
       "        3.00000000e+00, 3.00000000e+00, 2.00000000e+00],\n",
       "       [5.64800000e+03, 2.80000000e+01, 0.00000000e+00, 6.00000000e+00,\n",
       "        1.00000000e+00, 1.00000000e+00, 1.30000000e+01],\n",
       "       [5.22472514e+04, 5.00000000e+00, 5.00000000e+00, 6.00000000e+00,\n",
       "        0.00000000e+00, 2.00000000e+00, 1.00000000e+00],\n",
       "       [7.50000000e+03, 6.00000000e+00, 1.60000000e+01, 1.10000000e+01,\n",
       "        1.10000000e+01, 1.00000000e+00, 1.60000000e+01],\n",
       "       [6.30330000e+04, 1.94000000e+02, 6.10000000e+01, 4.80000000e+02,\n",
       "        2.25000000e+02, 1.12000000e+02, 3.00000000e+01],\n",
       "       [5.93540000e+04, 2.33000000e+02, 2.00000000e+00, 5.30000000e+01,\n",
       "        3.00000000e+00, 5.00000000e+00, 1.40000000e+01],\n",
       "       [1.73230000e+04, 3.00000000e+00, 1.40000000e+01, 1.70000000e+01,\n",
       "        6.00000000e+00, 1.00000000e+00, 5.00000000e+00],\n",
       "       [8.28000000e+04, 1.00600000e+03, 2.20000000e+01, 1.15000000e+02,\n",
       "        5.90000000e+01, 6.80000000e+01, 4.50000000e+01],\n",
       "       [4.18500000e+04, 5.30000000e+01, 5.00000000e+00, 1.90000000e+01,\n",
       "        2.00000000e+00, 1.30000000e+01, 4.00000000e+00],\n",
       "       [3.77600000e+04, 8.40000000e+01, 5.00000000e+00, 3.80000000e+01,\n",
       "        1.50000000e+02, 1.20000000e+01, 2.80000000e+01],\n",
       "       [7.69950000e+04, 1.01200000e+03, 8.00000000e+01, 4.98000000e+02,\n",
       "        0.00000000e+00, 1.60000000e+01, 1.76000000e+02],\n",
       "       [3.38120000e+04, 4.00000000e+00, 1.70000000e+01, 1.90000000e+01,\n",
       "        3.00000000e+01, 2.40000000e+01, 3.90000000e+01],\n",
       "       [3.70400000e+04, 8.60000000e+01, 2.00000000e+00, 7.30000000e+01,\n",
       "        6.90000000e+01, 3.80000000e+01, 4.80000000e+01],\n",
       "       [2.44700000e+03, 1.00000000e+00, 1.00000000e+00, 1.72500000e+03,\n",
       "        1.00000000e+00, 1.00000000e+00, 1.00000000e+00],\n",
       "       [5.86070000e+04, 8.67000000e+02, 0.00000000e+00, 8.60000000e+01,\n",
       "        0.00000000e+00, 0.00000000e+00, 1.90000000e+01],\n",
       "       [6.53240000e+04, 3.84000000e+02, 0.00000000e+00, 1.02000000e+02,\n",
       "        2.10000000e+01, 3.20000000e+01, 5.00000000e+00],\n",
       "       [4.06890000e+04, 2.70000000e+02, 3.00000000e+00, 2.70000000e+01,\n",
       "        3.90000000e+01, 6.00000000e+00, 9.90000000e+01],\n",
       "       [1.85890000e+04, 6.00000000e+00, 4.00000000e+00, 2.50000000e+01,\n",
       "        1.50000000e+01, 1.20000000e+01, 1.30000000e+01],\n",
       "       [5.33590000e+04, 1.73000000e+02, 4.00000000e+00, 3.00000000e+01,\n",
       "        3.00000000e+00, 6.00000000e+00, 4.10000000e+01],\n",
       "       [5.22472514e+04, 5.00000000e+00, 1.00000000e+00, 3.00000000e+00,\n",
       "        3.00000000e+00, 2.63000000e+02, 3.62000000e+02],\n",
       "       [3.83600000e+04, 3.60000000e+01, 2.00000000e+00, 4.20000000e+01,\n",
       "        2.00000000e+01, 2.10000000e+01, 1.00000000e+01]])"
      ]
     },
     "execution_count": 46,
     "metadata": {},
     "output_type": "execute_result"
    }
   ],
   "source": [
    "X[:29]"
   ]
  },
  {
   "cell_type": "code",
   "execution_count": 47,
   "id": "4a2d7cdc",
   "metadata": {},
   "outputs": [],
   "source": [
    "# elbow method\n",
    "clustering_score = []\n",
    "for i in range(1,11):\n",
    "    kmeans = KMeans(n_clusters=i,init = 'random',random_state = 42)\n",
    "    kmeans.fit(X)\n",
    "    clustering_score.append(kmeans.inertia_)"
   ]
  },
  {
   "cell_type": "code",
   "execution_count": 48,
   "id": "a2f5a8a5",
   "metadata": {},
   "outputs": [
    {
     "data": {
      "image/png": "[encoded data removed]",
      "text/plain": [
       "<Figure size 1000x600 with 1 Axes>"
      ]
     },
     "metadata": {},
     "output_type": "display_data"
    }
   ],
   "source": [
    "plt.figure(figsize = (10,6))\n",
    "plt.plot(range(1,11),clustering_score)\n",
    "plt.xlabel('No of clusters')\n",
    "plt.ylabel('clustering Score')\n",
    "plt.title(\"Elbow method\")\n",
    "plt.show()"
   ]
  },
  {
   "cell_type": "code",
   "execution_count": 49,
   "id": "685b86ee",
   "metadata": {},
   "outputs": [
    {
     "data": {
      "text/plain": [
       "[947289518757.5513,\n",
       " 271968811527.10107,\n",
       " 136445062616.65407,\n",
       " 82469519036.62747,\n",
       " 53517194054.95243,\n",
       " 40712224759.55031,\n",
       " 31236411853.73097,\n",
       " 24231666623.119774,\n",
       " 19042140197.321877,\n",
       " 15600411275.024714]"
      ]
     },
     "execution_count": 49,
     "metadata": {},
     "output_type": "execute_result"
    }
   ],
   "source": [
    "clustering_score"
   ]
  },
  {
   "cell_type": "code",
   "execution_count": 50,
   "id": "c3e24d13",
   "metadata": {},
   "outputs": [
    {
     "data": {
      "image/png": "[encoded data removed]",
      "text/plain": [
       "<Figure size 1000x600 with 1 Axes>"
      ]
     },
     "metadata": {},
     "output_type": "display_data"
    }
   ],
   "source": [
    "plt.figure(figsize = (10,6))\n",
    "plt.plot(range(1,11), clustering_score)\n",
    "plt.scatter(5,clustering_score[4], s = 200, c = 'red', marker = \"*\")\n",
    "plt.xlabel('No of clusters')\n",
    "plt.ylabel('clustering Score')\n",
    "\n",
    "plt.title(\"Elbow method\")\n",
    "\n",
    "plt.show()"
   ]
  },
  {
   "cell_type": "code",
   "execution_count": 51,
   "id": "3109f4fa",
   "metadata": {},
   "outputs": [],
   "source": [
    "# silhoutte score : used to determine degree of speration between clusters\n",
    "# coeff range is in [-1,1]\n",
    "# if it is 0 : sample is very much closer to neighbouring cluster\n",
    "# if it is 1 : sample is away from neighbouring cluster\n",
    "# if it is -1 : sample is assigned to wrong cluster"
   ]
  },
  {
   "cell_type": "code",
   "execution_count": 52,
   "id": "358f58d9",
   "metadata": {},
   "outputs": [],
   "source": [
    "from sklearn.metrics import silhouette_score\n",
    "silhouette_score_lst = []\n",
    "for i in range(2,11):\n",
    "    silhouette_score_lst.append(silhouette_score(X,(KMeans(n_clusters=i).fit_predict(X))))"
   ]
  },
  {
   "cell_type": "code",
   "execution_count": 53,
   "id": "7c5a69c9",
   "metadata": {},
   "outputs": [
    {
     "data": {
      "text/plain": [
       "[0.6021464916739305,\n",
       " 0.5522741497886315,\n",
       " 0.5343186026531762,\n",
       " 0.5409893375510499,\n",
       " 0.5197390131947478,\n",
       " 0.5153550730826555,\n",
       " 0.5184603187051008,\n",
       " 0.5219711206978467,\n",
       " 0.5181507853028396]"
      ]
     },
     "execution_count": 53,
     "metadata": {},
     "output_type": "execute_result"
    }
   ],
   "source": [
    "silhouette_score_lst"
   ]
  },
  {
   "cell_type": "code",
   "execution_count": 54,
   "id": "c56f5ded",
   "metadata": {},
   "outputs": [
    {
     "data": {
      "image/png": "[encoded data removed]",
      "text/plain": [
       "<Figure size 640x480 with 1 Axes>"
      ]
     },
     "metadata": {},
     "output_type": "display_data"
    }
   ],
   "source": [
    "# plotting\n",
    "k = [2,3,4,5,6,7,8,9,10]\n",
    "plt.bar(k,silhouette_score_lst)\n",
    "plt.xlabel(\"Number of clusters\")\n",
    "plt.ylabel(\"silhouette_score\")\n",
    "plt.show()"
   ]
  },
  {
   "cell_type": "code",
   "execution_count": 55,
   "id": "32b6e9ae",
   "metadata": {},
   "outputs": [],
   "source": [
    "# highest value of bar from given clusters values will be selected"
   ]
  },
  {
   "cell_type": "code",
   "execution_count": 56,
   "id": "0810077c",
   "metadata": {},
   "outputs": [],
   "source": [
    "# selecting number of clusters = 4"
   ]
  },
  {
   "cell_type": "code",
   "execution_count": 57,
   "id": "84600be0",
   "metadata": {},
   "outputs": [
    {
     "name": "stdout",
     "output_type": "stream",
     "text": [
      "[0 3 2 ... 0 0 0]\n"
     ]
    }
   ],
   "source": [
    "# set up a model\n",
    "kmeans = KMeans(n_clusters=4,random_state = 42)\n",
    "# fit model\n",
    "kmeans.fit(X)\n",
    "# predict\n",
    "pred = kmeans.predict(X)\n",
    "print(pred)"
   ]
  },
  {
   "cell_type": "code",
   "execution_count": 58,
   "id": "a856444a",
   "metadata": {},
   "outputs": [
    {
     "data": {
      "text/plain": [
       "2232"
      ]
     },
     "execution_count": 58,
     "metadata": {},
     "output_type": "execute_result"
    }
   ],
   "source": [
    "len(pred)"
   ]
  },
  {
   "cell_type": "code",
   "execution_count": 59,
   "id": "f1c208d8",
   "metadata": {},
   "outputs": [
    {
     "name": "stderr",
     "output_type": "stream",
     "text": [
      "C:\\Users\\asus\\AppData\\Local\\Temp\\ipykernel_7428\\2279948890.py:1: SettingWithCopyWarning: \n",
      "A value is trying to be set on a copy of a slice from a DataFrame.\n",
      "Try using .loc[row_indexer,col_indexer] = value instead\n",
      "\n",
      "See the caveats in the documentation: https://pandas.pydata.org/pandas-docs/stable/user_guide/indexing.html#returning-a-view-versus-a-copy\n",
      "  df1['cluster'] = pd.DataFrame(pred,columns = ['cluster'])\n"
     ]
    },
    {
     "data": {
      "text/html": [
       "<div>\n",
       "<style scoped>\n",
       "    .dataframe tbody tr th:only-of-type {\n",
       "        vertical-align: middle;\n",
       "    }\n",
       "\n",
       "    .dataframe tbody tr th {\n",
       "        vertical-align: top;\n",
       "    }\n",
       "\n",
       "    .dataframe thead th {\n",
       "        text-align: right;\n",
       "    }\n",
       "</style>\n",
       "<table border=\"1\" class=\"dataframe\">\n",
       "  <thead>\n",
       "    <tr style=\"text-align: right;\">\n",
       "      <th></th>\n",
       "      <th>ID</th>\n",
       "      <th>Year_Birth</th>\n",
       "      <th>Education</th>\n",
       "      <th>Marital_Status</th>\n",
       "      <th>Income</th>\n",
       "      <th>Kidhome</th>\n",
       "      <th>Teenhome</th>\n",
       "      <th>Dt_Customer</th>\n",
       "      <th>Recency</th>\n",
       "      <th>MntWines</th>\n",
       "      <th>...</th>\n",
       "      <th>AcceptedCmp3</th>\n",
       "      <th>AcceptedCmp4</th>\n",
       "      <th>AcceptedCmp5</th>\n",
       "      <th>AcceptedCmp1</th>\n",
       "      <th>AcceptedCmp2</th>\n",
       "      <th>Complain</th>\n",
       "      <th>Z_CostContact</th>\n",
       "      <th>Z_Revenue</th>\n",
       "      <th>Response</th>\n",
       "      <th>cluster</th>\n",
       "    </tr>\n",
       "  </thead>\n",
       "  <tbody>\n",
       "    <tr>\n",
       "      <th>0</th>\n",
       "      <td>5524</td>\n",
       "      <td>1957</td>\n",
       "      <td>Graduation</td>\n",
       "      <td>Single</td>\n",
       "      <td>58138.0</td>\n",
       "      <td>0</td>\n",
       "      <td>0</td>\n",
       "      <td>04/09/12</td>\n",
       "      <td>58</td>\n",
       "      <td>635</td>\n",
       "      <td>...</td>\n",
       "      <td>0</td>\n",
       "      <td>0</td>\n",
       "      <td>0</td>\n",
       "      <td>0</td>\n",
       "      <td>0</td>\n",
       "      <td>0</td>\n",
       "      <td>3</td>\n",
       "      <td>11</td>\n",
       "      <td>1</td>\n",
       "      <td>0.0</td>\n",
       "    </tr>\n",
       "    <tr>\n",
       "      <th>1</th>\n",
       "      <td>2174</td>\n",
       "      <td>1954</td>\n",
       "      <td>Graduation</td>\n",
       "      <td>Single</td>\n",
       "      <td>46344.0</td>\n",
       "      <td>1</td>\n",
       "      <td>1</td>\n",
       "      <td>08/03/14</td>\n",
       "      <td>38</td>\n",
       "      <td>11</td>\n",
       "      <td>...</td>\n",
       "      <td>0</td>\n",
       "      <td>0</td>\n",
       "      <td>0</td>\n",
       "      <td>0</td>\n",
       "      <td>0</td>\n",
       "      <td>0</td>\n",
       "      <td>3</td>\n",
       "      <td>11</td>\n",
       "      <td>0</td>\n",
       "      <td>3.0</td>\n",
       "    </tr>\n",
       "    <tr>\n",
       "      <th>2</th>\n",
       "      <td>4141</td>\n",
       "      <td>1965</td>\n",
       "      <td>Graduation</td>\n",
       "      <td>Together</td>\n",
       "      <td>71613.0</td>\n",
       "      <td>0</td>\n",
       "      <td>0</td>\n",
       "      <td>21/08/13</td>\n",
       "      <td>26</td>\n",
       "      <td>426</td>\n",
       "      <td>...</td>\n",
       "      <td>0</td>\n",
       "      <td>0</td>\n",
       "      <td>0</td>\n",
       "      <td>0</td>\n",
       "      <td>0</td>\n",
       "      <td>0</td>\n",
       "      <td>3</td>\n",
       "      <td>11</td>\n",
       "      <td>0</td>\n",
       "      <td>2.0</td>\n",
       "    </tr>\n",
       "    <tr>\n",
       "      <th>3</th>\n",
       "      <td>6182</td>\n",
       "      <td>1984</td>\n",
       "      <td>Graduation</td>\n",
       "      <td>Together</td>\n",
       "      <td>26646.0</td>\n",
       "      <td>1</td>\n",
       "      <td>0</td>\n",
       "      <td>10/02/14</td>\n",
       "      <td>26</td>\n",
       "      <td>11</td>\n",
       "      <td>...</td>\n",
       "      <td>0</td>\n",
       "      <td>0</td>\n",
       "      <td>0</td>\n",
       "      <td>0</td>\n",
       "      <td>0</td>\n",
       "      <td>0</td>\n",
       "      <td>3</td>\n",
       "      <td>11</td>\n",
       "      <td>0</td>\n",
       "      <td>1.0</td>\n",
       "    </tr>\n",
       "    <tr>\n",
       "      <th>4</th>\n",
       "      <td>5324</td>\n",
       "      <td>1981</td>\n",
       "      <td>PhD</td>\n",
       "      <td>Married</td>\n",
       "      <td>58293.0</td>\n",
       "      <td>1</td>\n",
       "      <td>0</td>\n",
       "      <td>19/01/14</td>\n",
       "      <td>94</td>\n",
       "      <td>173</td>\n",
       "      <td>...</td>\n",
       "      <td>0</td>\n",
       "      <td>0</td>\n",
       "      <td>0</td>\n",
       "      <td>0</td>\n",
       "      <td>0</td>\n",
       "      <td>0</td>\n",
       "      <td>3</td>\n",
       "      <td>11</td>\n",
       "      <td>0</td>\n",
       "      <td>0.0</td>\n",
       "    </tr>\n",
       "    <tr>\n",
       "      <th>5</th>\n",
       "      <td>7446</td>\n",
       "      <td>1967</td>\n",
       "      <td>Master</td>\n",
       "      <td>Together</td>\n",
       "      <td>62513.0</td>\n",
       "      <td>0</td>\n",
       "      <td>1</td>\n",
       "      <td>09/09/13</td>\n",
       "      <td>16</td>\n",
       "      <td>520</td>\n",
       "      <td>...</td>\n",
       "      <td>0</td>\n",
       "      <td>0</td>\n",
       "      <td>0</td>\n",
       "      <td>0</td>\n",
       "      <td>0</td>\n",
       "      <td>0</td>\n",
       "      <td>3</td>\n",
       "      <td>11</td>\n",
       "      <td>0</td>\n",
       "      <td>0.0</td>\n",
       "    </tr>\n",
       "    <tr>\n",
       "      <th>6</th>\n",
       "      <td>965</td>\n",
       "      <td>1971</td>\n",
       "      <td>Graduation</td>\n",
       "      <td>Divorced</td>\n",
       "      <td>55635.0</td>\n",
       "      <td>0</td>\n",
       "      <td>1</td>\n",
       "      <td>13/11/12</td>\n",
       "      <td>34</td>\n",
       "      <td>235</td>\n",
       "      <td>...</td>\n",
       "      <td>0</td>\n",
       "      <td>0</td>\n",
       "      <td>0</td>\n",
       "      <td>0</td>\n",
       "      <td>0</td>\n",
       "      <td>0</td>\n",
       "      <td>3</td>\n",
       "      <td>11</td>\n",
       "      <td>0</td>\n",
       "      <td>0.0</td>\n",
       "    </tr>\n",
       "    <tr>\n",
       "      <th>7</th>\n",
       "      <td>6177</td>\n",
       "      <td>1985</td>\n",
       "      <td>PhD</td>\n",
       "      <td>Married</td>\n",
       "      <td>33454.0</td>\n",
       "      <td>1</td>\n",
       "      <td>0</td>\n",
       "      <td>08/05/13</td>\n",
       "      <td>32</td>\n",
       "      <td>76</td>\n",
       "      <td>...</td>\n",
       "      <td>0</td>\n",
       "      <td>0</td>\n",
       "      <td>0</td>\n",
       "      <td>0</td>\n",
       "      <td>0</td>\n",
       "      <td>0</td>\n",
       "      <td>3</td>\n",
       "      <td>11</td>\n",
       "      <td>0</td>\n",
       "      <td>3.0</td>\n",
       "    </tr>\n",
       "    <tr>\n",
       "      <th>8</th>\n",
       "      <td>4855</td>\n",
       "      <td>1974</td>\n",
       "      <td>PhD</td>\n",
       "      <td>Together</td>\n",
       "      <td>30351.0</td>\n",
       "      <td>1</td>\n",
       "      <td>0</td>\n",
       "      <td>06/06/13</td>\n",
       "      <td>19</td>\n",
       "      <td>14</td>\n",
       "      <td>...</td>\n",
       "      <td>0</td>\n",
       "      <td>0</td>\n",
       "      <td>0</td>\n",
       "      <td>0</td>\n",
       "      <td>0</td>\n",
       "      <td>0</td>\n",
       "      <td>3</td>\n",
       "      <td>11</td>\n",
       "      <td>1</td>\n",
       "      <td>1.0</td>\n",
       "    </tr>\n",
       "    <tr>\n",
       "      <th>9</th>\n",
       "      <td>5899</td>\n",
       "      <td>1950</td>\n",
       "      <td>PhD</td>\n",
       "      <td>Together</td>\n",
       "      <td>5648.0</td>\n",
       "      <td>1</td>\n",
       "      <td>1</td>\n",
       "      <td>13/03/14</td>\n",
       "      <td>68</td>\n",
       "      <td>28</td>\n",
       "      <td>...</td>\n",
       "      <td>1</td>\n",
       "      <td>0</td>\n",
       "      <td>0</td>\n",
       "      <td>0</td>\n",
       "      <td>0</td>\n",
       "      <td>0</td>\n",
       "      <td>3</td>\n",
       "      <td>11</td>\n",
       "      <td>0</td>\n",
       "      <td>1.0</td>\n",
       "    </tr>\n",
       "  </tbody>\n",
       "</table>\n",
       "<p>10 rows × 30 columns</p>\n",
       "</div>"
      ],
      "text/plain": [
       "     ID  Year_Birth   Education Marital_Status   Income  Kidhome  Teenhome  \\\n",
       "0  5524        1957  Graduation         Single  58138.0        0         0   \n",
       "1  2174        1954  Graduation         Single  46344.0        1         1   \n",
       "2  4141        1965  Graduation       Together  71613.0        0         0   \n",
       "3  6182        1984  Graduation       Together  26646.0        1         0   \n",
       "4  5324        1981         PhD        Married  58293.0        1         0   \n",
       "5  7446        1967      Master       Together  62513.0        0         1   \n",
       "6   965        1971  Graduation       Divorced  55635.0        0         1   \n",
       "7  6177        1985         PhD        Married  33454.0        1         0   \n",
       "8  4855        1974         PhD       Together  30351.0        1         0   \n",
       "9  5899        1950         PhD       Together   5648.0        1         1   \n",
       "\n",
       "  Dt_Customer  Recency  MntWines  ...  AcceptedCmp3  AcceptedCmp4  \\\n",
       "0    04/09/12       58       635  ...             0             0   \n",
       "1    08/03/14       38        11  ...             0             0   \n",
       "2    21/08/13       26       426  ...             0             0   \n",
       "3    10/02/14       26        11  ...             0             0   \n",
       "4    19/01/14       94       173  ...             0             0   \n",
       "5    09/09/13       16       520  ...             0             0   \n",
       "6    13/11/12       34       235  ...             0             0   \n",
       "7    08/05/13       32        76  ...             0             0   \n",
       "8    06/06/13       19        14  ...             0             0   \n",
       "9    13/03/14       68        28  ...             1             0   \n",
       "\n",
       "   AcceptedCmp5  AcceptedCmp1  AcceptedCmp2  Complain  Z_CostContact  \\\n",
       "0             0             0             0         0              3   \n",
       "1             0             0             0         0              3   \n",
       "2             0             0             0         0              3   \n",
       "3             0             0             0         0              3   \n",
       "4             0             0             0         0              3   \n",
       "5             0             0             0         0              3   \n",
       "6             0             0             0         0              3   \n",
       "7             0             0             0         0              3   \n",
       "8             0             0             0         0              3   \n",
       "9             0             0             0         0              3   \n",
       "\n",
       "   Z_Revenue  Response  cluster  \n",
       "0         11         1      0.0  \n",
       "1         11         0      3.0  \n",
       "2         11         0      2.0  \n",
       "3         11         0      1.0  \n",
       "4         11         0      0.0  \n",
       "5         11         0      0.0  \n",
       "6         11         0      0.0  \n",
       "7         11         0      3.0  \n",
       "8         11         1      1.0  \n",
       "9         11         0      1.0  \n",
       "\n",
       "[10 rows x 30 columns]"
      ]
     },
     "execution_count": 59,
     "metadata": {},
     "output_type": "execute_result"
    }
   ],
   "source": [
    "df1['cluster'] = pd.DataFrame(pred,columns = ['cluster'])\n",
    "df1.head(10)"
   ]
  },
  {
   "cell_type": "code",
   "execution_count": 60,
   "id": "4d1d26c4",
   "metadata": {},
   "outputs": [
    {
     "data": {
      "text/plain": [
       "0.0    641\n",
       "3.0    625\n",
       "2.0    518\n",
       "1.0    441\n",
       "Name: cluster, dtype: int64"
      ]
     },
     "execution_count": 60,
     "metadata": {},
     "output_type": "execute_result"
    }
   ],
   "source": [
    "df1['cluster'].value_counts()"
   ]
  },
  {
   "cell_type": "code",
   "execution_count": 61,
   "id": "acfac3c1",
   "metadata": {},
   "outputs": [
    {
     "data": {
      "text/plain": [
       "array([[5.96566408e+04, 4.23055988e+02, 2.93110420e+01, 1.63119751e+02,\n",
       "        3.93514774e+01, 2.82488336e+01, 5.75178849e+01],\n",
       "       [2.30362551e+04, 1.64130926e+01, 5.53950339e+00, 2.09322799e+01,\n",
       "        8.09255079e+00, 5.79909707e+00, 1.63476298e+01],\n",
       "       [7.89918038e+04, 6.44494231e+02, 6.27596154e+01, 4.37223077e+02,\n",
       "        9.04519231e+01, 6.70115385e+01, 7.39307692e+01],\n",
       "       [4.09280958e+04, 1.05704473e+02, 7.89936102e+00, 4.38945687e+01,\n",
       "        1.29392971e+01, 8.03833866e+00, 2.54137380e+01]])"
      ]
     },
     "execution_count": 61,
     "metadata": {},
     "output_type": "execute_result"
    }
   ],
   "source": [
    "# centroids of each clusters\n",
    "kmeans.cluster_centers_"
   ]
  },
  {
   "cell_type": "code",
   "execution_count": 62,
   "id": "cc7d992e",
   "metadata": {},
   "outputs": [
    {
     "data": {
      "text/plain": [
       "array([59656.64079703, 23036.25507901, 78991.80384615, 40928.09584665])"
      ]
     },
     "execution_count": 62,
     "metadata": {},
     "output_type": "execute_result"
    }
   ],
   "source": [
    "kmeans.cluster_centers_[:,0]"
   ]
  },
  {
   "cell_type": "code",
   "execution_count": 63,
   "id": "318de287",
   "metadata": {},
   "outputs": [
    {
     "data": {
      "text/plain": [
       "array([58138.        , 58293.        , 62513.        , 55635.        ,\n",
       "       52247.25135379, 63033.        , 59354.        , 58607.        ,\n",
       "       65324.        , 53359.        , 52247.25135379, 68657.        ,\n",
       "       67353.        , 52247.25135379, 52247.25135379, 65486.        ,\n",
       "       66373.        , 52247.25135379, 55954.        , 66653.        ,\n",
       "       61823.        , 67680.        , 69096.        , 66991.        ,\n",
       "       52247.25135379, 65031.        , 60631.        , 56046.        ,\n",
       "       50388.        , 54178.        , 52247.25135379, 52247.25135379,\n",
       "       52247.25135379, 51813.        , 65846.        , 52413.        ,\n",
       "       68126.        , 57288.        , 50785.        , 56129.        ,\n",
       "       54348.        , 52247.25135379, 62998.        , 61331.        ,\n",
       "       52247.25135379, 62981.        , 65104.        , 68352.        ,\n",
       "       59809.        , 59354.        , 65747.        , 61010.        ,\n",
       "       60199.        , 55375.        , 62551.        , 52332.        ,\n",
       "       66951.        , 50447.        , 53537.        , 52074.        ,\n",
       "       51650.        , 66835.        , 61286.        , 66973.        ,\n",
       "       51148.        , 69142.        , 63693.        , 64497.        ,\n",
       "       52195.        , 63887.        , 51369.        , 51537.        ,\n",
       "       62745.        , 60182.        , 64961.        , 61074.        ,\n",
       "       67546.        , 65176.        , 63342.        , 69267.        ,\n",
       "       61905.        , 66313.        , 60714.        , 63841.        ,\n",
       "       51369.        , 65640.        , 50898.        , 55951.        ,\n",
       "       68627.        , 57912.        , 58821.        , 64100.        ,\n",
       "       52247.25135379, 54198.        , 66503.        , 52247.25135379,\n",
       "       64795.        , 64325.        , 62187.        , 54432.        ,\n",
       "       66334.        , 62204.        , 68655.        , 55212.        ,\n",
       "       59292.        , 60000.        , 50737.        , 68462.        ,\n",
       "       65073.        , 62187.        , 51479.        , 54803.        ,\n",
       "       52614.        , 63810.        , 66426.        , 63381.        ,\n",
       "       62499.        , 51012.        , 68682.        , 55521.        ,\n",
       "       65808.        , 50437.        , 53858.        , 66465.        ,\n",
       "       61314.        , 67309.        , 50943.        , 67272.        ,\n",
       "       51529.        , 56223.        , 55707.        , 57959.        ,\n",
       "       56796.        , 65991.        , 50300.        , 66664.        ,\n",
       "       60597.        , 50520.        , 66582.        , 53790.        ,\n",
       "       61456.        , 56937.        , 62503.        , 55842.        ,\n",
       "       62010.        , 65104.        , 60093.        , 58308.        ,\n",
       "       55614.        , 59432.        , 55563.        , 67911.        ,\n",
       "       65275.        , 64355.        , 50943.        , 53653.        ,\n",
       "       65665.        , 61250.        , 60152.        , 50353.        ,\n",
       "       61839.        , 57954.        , 65316.        , 57247.        ,\n",
       "       54058.        , 60504.        , 54880.        , 62466.        ,\n",
       "       52157.        , 66565.        , 64413.        , 61996.        ,\n",
       "       51287.        , 54603.        , 61794.        , 53863.        ,\n",
       "       59973.        , 62807.        , 61467.        , 54162.        ,\n",
       "       54456.        , 69084.        , 65488.        , 62466.        ,\n",
       "       56181.        , 63120.        , 63381.        , 62859.        ,\n",
       "       55282.        , 66886.        , 67445.        , 50616.        ,\n",
       "       61278.        , 56253.        , 58330.        , 54690.        ,\n",
       "       59304.        , 59247.        , 66731.        , 52614.        ,\n",
       "       65295.        , 68118.        , 68743.        , 65777.        ,\n",
       "       66476.        , 50611.        , 61209.        , 61923.        ,\n",
       "       66375.        , 55250.        , 58398.        , 58710.        ,\n",
       "       59111.        , 56962.        , 53593.        , 66373.        ,\n",
       "       67432.        , 62882.        , 64108.        , 63564.        ,\n",
       "       51518.        , 58330.        , 63855.        , 62220.        ,\n",
       "       58512.        , 67430.        , 62058.        , 51124.        ,\n",
       "       62847.        , 51267.        , 60161.        , 61872.        ,\n",
       "       56850.        , 55267.        , 59666.        , 52750.        ,\n",
       "       65968.        , 65685.        , 57091.        , 55412.        ,\n",
       "       56575.        , 56628.        , 61618.        , 55284.        ,\n",
       "       65324.        , 60474.        , 55357.        , 57906.        ,\n",
       "       53172.        , 62450.        , 61346.        , 51111.        ,\n",
       "       51195.        , 68092.        , 51390.        , 55260.        ,\n",
       "       64090.        , 54137.        , 66825.        , 57100.        ,\n",
       "       58917.        , 52278.        , 62820.        , 68397.        ,\n",
       "       64950.        , 67536.        , 55239.        , 60554.        ,\n",
       "       64831.        , 56067.        , 51563.        , 57937.        ,\n",
       "       68274.        , 67893.        , 52190.        , 59754.        ,\n",
       "       53700.        , 59041.        , 54237.        , 52597.        ,\n",
       "       54753.        , 59052.        , 56962.        , 53103.        ,\n",
       "       63693.        , 65352.        , 64449.        , 64587.        ,\n",
       "       52845.        , 56337.        , 65569.        , 59412.        ,\n",
       "       54165.        , 64504.        , 56320.        , 68316.        ,\n",
       "       68695.        , 61180.        , 69098.        , 53312.        ,\n",
       "       67605.        , 62845.        , 65196.        , 65526.        ,\n",
       "       64176.        , 67023.        , 59925.        , 66294.        ,\n",
       "       54233.        , 57236.        , 61825.        , 56775.        ,\n",
       "       54210.        , 53187.        , 50870.        , 65463.        ,\n",
       "       66480.        , 54466.        , 52034.        , 63998.        ,\n",
       "       67381.        , 56129.        , 63285.        , 54450.        ,\n",
       "       57744.        , 57513.        , 68142.        , 54197.        ,\n",
       "       56715.        , 57304.        , 54450.        , 59594.        ,\n",
       "       62710.        , 66726.        , 54386.        , 54959.        ,\n",
       "       62000.        , 67369.        , 58401.        , 62307.        ,\n",
       "       63841.        , 59184.        , 54809.        , 58113.        ,\n",
       "       51412.        , 66636.        , 50965.        , 65748.        ,\n",
       "       56721.        , 61559.        , 68682.        , 61284.        ,\n",
       "       54730.        , 64722.        , 55249.        , 59062.        ,\n",
       "       66000.        , 65106.        , 67433.        , 68118.        ,\n",
       "       55158.        , 62972.        , 53378.        , 55956.        ,\n",
       "       64191.        , 57183.        , 66303.        , 57091.        ,\n",
       "       52531.        , 60033.        , 57811.        , 60894.        ,\n",
       "       65169.        , 59868.        , 65695.        , 64857.        ,\n",
       "       59060.        , 51948.        , 62845.        , 62061.        ,\n",
       "       69139.        , 69109.        , 62159.        , 58554.        ,\n",
       "       53034.        , 52203.        , 59601.        , 67267.        ,\n",
       "       57338.        , 50523.        , 50611.        , 56242.        ,\n",
       "       56243.        , 57420.        , 52247.25135379, 54342.        ,\n",
       "       52247.25135379, 52247.25135379, 52247.25135379, 53761.        ,\n",
       "       63915.        , 63841.        , 51039.        , 60544.        ,\n",
       "       65685.        , 67087.        , 57045.        , 57537.        ,\n",
       "       51315.        , 65704.        , 63810.        , 54132.        ,\n",
       "       60544.        , 51876.        , 52852.        , 68695.        ,\n",
       "       64866.        , 57957.        , 50725.        , 67419.        ,\n",
       "       65148.        , 64857.        , 59892.        , 57072.        ,\n",
       "       60474.        , 62807.        , 64014.        , 60585.        ,\n",
       "       57867.        , 65492.        , 53374.        , 68487.        ,\n",
       "       53253.        , 54108.        , 63206.        , 57136.        ,\n",
       "       53977.        , 51766.        , 55759.        , 58597.        ,\n",
       "       57036.        , 53083.        , 69283.        , 67786.        ,\n",
       "       59235.        , 65819.        , 51411.        , 51983.        ,\n",
       "       66033.        , 57530.        , 63943.        , 67445.        ,\n",
       "       63972.        , 55517.        , 60482.        , 61482.        ,\n",
       "       52569.        , 53843.        , 54072.        , 51250.        ,\n",
       "       60432.        , 65526.        , 68655.        , 64509.        ,\n",
       "       55434.        , 57100.        , 69139.        , 52973.        ,\n",
       "       51717.        , 66664.        , 50664.        , 54414.        ,\n",
       "       54549.        , 52854.        , 59821.        , 64140.        ,\n",
       "       56386.        , 58494.        , 58684.        , 57136.        ,\n",
       "       56551.        , 62670.        , 50334.        , 50729.        ,\n",
       "       64892.        , 63246.        , 69084.        , 69016.        ,\n",
       "       56534.        , 58350.        , 61787.        , 62335.        ,\n",
       "       61064.        , 55012.        , 58656.        , 52117.        ,\n",
       "       64813.        , 54222.        , 60230.        , 55424.        ,\n",
       "       54984.        , 55761.        , 58086.        , 66835.        ,\n",
       "       63342.        , 51569.        , 62905.        , 59481.        ,\n",
       "       67131.        , 51012.        , 65370.        , 64590.        ,\n",
       "       60839.        , 62535.        , 63404.        , 59385.        ,\n",
       "       53977.        , 63159.        , 63207.        , 58582.        ,\n",
       "       50387.        , 62568.        , 63967.        , 52513.        ,\n",
       "       54111.        , 54693.        , 54809.        , 62972.        ,\n",
       "       57333.        , 68148.        , 65735.        , 57705.        ,\n",
       "       64260.        , 58217.        , 54006.        , 69063.        ,\n",
       "       61825.        , 69109.        , 60208.        , 60200.        ,\n",
       "       50616.        , 62772.        , 52413.        , 67546.        ,\n",
       "       61671.        , 59292.        , 62820.        , 60491.        ,\n",
       "       67384.        , 52278.        , 57107.        , 55212.        ,\n",
       "       64849.        , 62694.        , 61917.        , 67472.        ,\n",
       "       54998.        , 54356.        , 63211.        , 51141.        ,\n",
       "       56939.        , 61798.        , 56551.        , 64474.        ,\n",
       "       55686.        , 54690.        , 58646.        , 53201.        ,\n",
       "       57113.        , 51373.        , 58116.        , 56559.        ,\n",
       "       67506.        , 63684.        , 68805.        , 65814.        ,\n",
       "       68281.        , 68117.        , 67225.        , 55914.        ,\n",
       "       60905.        , 60689.        , 61416.        , 53154.        ,\n",
       "       65308.        , 55801.        , 59462.        , 52247.25135379,\n",
       "       52247.25135379, 67445.        , 67046.        , 54591.        ,\n",
       "       64713.        , 52247.25135379, 52247.25135379, 52247.25135379,\n",
       "       51651.        , 68487.        , 52247.25135379, 56796.        ,\n",
       "       53367.        , 54252.        , 53204.        , 67911.        ,\n",
       "       58646.        , 58275.        , 66476.        , 53230.        ,\n",
       "       61286.        , 65220.        , 65487.        , 58692.        ,\n",
       "       62637.        , 65333.        , 63516.        , 69209.        ,\n",
       "       58482.        , 59686.        , 60896.        , 62994.        ,\n",
       "       69263.        , 65706.        , 60934.        , 65210.        ,\n",
       "       52914.        , 53233.        , 67716.        , 65487.        ,\n",
       "       55593.        , 50501.        , 57731.        , 61014.        ,\n",
       "       58025.        , 57642.        , 58554.        , 63777.        ,\n",
       "       57967.        , 52247.25135379, 61223.        , 64014.        ,\n",
       "       56981.        , 69245.        , 52869.        ])"
      ]
     },
     "execution_count": 63,
     "metadata": {},
     "output_type": "execute_result"
    }
   ],
   "source": [
    "X[pred==0,0]"
   ]
  },
  {
   "cell_type": "code",
   "execution_count": 64,
   "id": "71443d98",
   "metadata": {},
   "outputs": [
    {
     "data": {
      "text/plain": [
       "array([ 635.,  173.,  520.,  235.,    5.,  194.,  233.,  867.,  384.,\n",
       "        173.,    5.,  482.,  702.,   81.,   48.,  245.,  328.,   11.,\n",
       "        447.,  452.,  523.,  546.,  247.,  496.,   25.,  258.,  565.,\n",
       "        577.,  292.,  135.,  230.,    7.,  445.,   51.,  562.,  295.,\n",
       "       1332.,  527.,   64.,  320.,   70.,  352.,  120.,  534.,  231.,\n",
       "        796.,  738.,  614.,  598.,  295.,  346.,  888.,    8.,   42.,\n",
       "        125.,  212.,  277.,   85.,   81.,   59.,  152.,  620.,  356.,\n",
       "        466.,  235.,  448.,  587., 1170.,   12.,  897.,  297.,  787.,\n",
       "        562.,    8.,  382.,  789.,  864.,  960.,  918.,  778.,  167.,\n",
       "        625.,  216.,  635.,  297.,  204.,  285., 1241.,  395.,  801.,\n",
       "        513.,  509.,  861.,  185.,   91.,  738.,  412.,  731.,  792.,\n",
       "         33.,  909.,  317.,  456., 1103.,  378., 1048.,   78.,  561.,\n",
       "        629.,  512.,  247.,  404.,  789.,  977., 1043.,  571.,  140.,\n",
       "        102.,  919.,  416.,  155.,  370.,  407., 1200.,  378.,  515.,\n",
       "         31.,  357.,  400.,   77.,  208.,  430.,  656.,  507.,  143.,\n",
       "        398.,  522.,  112.,  789.,  335.,  563.,  746.,  478.,  451.,\n",
       "        371.,  738.,  502.,  691.,  504.,  317.,   29.,  529.,  388.,\n",
       "       1047.,   31.,  815.,  225.,  382.,  325.,  141., 1000.,  456.,\n",
       "        112.,   99.,  198.,  458.,  308.,  129.,  189.,  747.,  200.,\n",
       "       1050.,  117.,  145.,  264.,  399.,  130.,  526.,  410.,    5.,\n",
       "        352., 1181.,  603.,  129.,  121.,  965.,  571., 1063.,  125.,\n",
       "        315.,  757.,   30.,  111.,  509.,  445.,  111.,  418.,  327.,\n",
       "        371.,  789.,  365.,  595., 1132.,  565.,  372.,  459.,  466.,\n",
       "         92.,  712.,  664.,  299.,  440.,  524.,  292.,  349.,  328.,\n",
       "        432.,  509.,  948.,  769.,  350.,  445.,  359.,  799.,  895.,\n",
       "        595.,  301.,   26.,  521.,  183.,  584.,  330.,   34.,  161.,\n",
       "        623.,  393.,  376.,  642.,  464.,   10.,  421.,  479.,  605.,\n",
       "        547.,  384.,  265.,  374.,  243.,  121.,  515.,  562.,   22.,\n",
       "        230.,  852.,  205.,  825.,  316.,  171.,  243.,  181.,  151.,\n",
       "        953.,  398.,  760.,  819., 1253.,  371.,  588.,  480.,  517.,\n",
       "       1166.,  261.,  135.,  711.,   42.,  115.,  263.,   69.,  267.,\n",
       "        492.,  197.,  230.,  292.,  729.,  587.,  284.,  218.,   66.,\n",
       "        384.,  349.,  397.,   90.,  127.,  986.,  201.,  806.,  458.,\n",
       "        403., 1315.,  241.,  336., 1099.,  743.,  397., 1215.,  444.,\n",
       "        473.,  251.,  652.,  105.,  162.,  614.,   70.,  211.,   53.,\n",
       "        391.,  199.,   12.,  146.,  176.,  815.,  320.,  508.,  454.,\n",
       "        350.,  735.,  897.,  162.,  258.,  356.,  454.,  457.,  441.,\n",
       "        349.,  277., 1148.,  899., 1298.,   10.,   87.,  635.,  341.,\n",
       "         63.,  221.,  140.,  291.,  544.,  172.,  157.,  279.,  919.,\n",
       "        618.,  318.,  303.,   97.,   46.,  244.,  790.,  615.,  595.,\n",
       "        293.,  313.,  489.,  760.,  420.,  464., 1090.,  462.,  283.,\n",
       "         62.,  545.,  606., 1074.,  771.,  371.,  556.,   35.,   82.,\n",
       "       1099.,  641.,   86.,  823.,  182.,  368.,  160.,  488.,  691.,\n",
       "        134.,  143.,   51.,  459.,  689.,  347.,  280.,  187.,   84.,\n",
       "         19.,    5.,   25.,  158.,  622.,  635.,  100.,  201.,  642.,\n",
       "        329.,  296.,  191.,   68.,  279.,  977.,   30.,  201.,   99.,\n",
       "        714.,  458.,  508.,  290.,  443.,  846.,  460.,  556.,   73.,\n",
       "        944.,  265.,  526.,  406.,  267.,  344.,  247.,  896.,  758.,\n",
       "        216.,  539.,  750.,  306.,  620.,   60.,  675.,  490., 1171.,\n",
       "        215.,  674.,  431.,  448.,  267.,   14.,  631.,  293.,   50.,\n",
       "        423.,  757.,  928.,  483.,  255.,   48.,   85.,  378.,   35.,\n",
       "        342.,  365.,  397.,  456.,  836.,  238.,  158.,   86.,  856.,\n",
       "         98.,  398.,  313.,  109.,  216.,  105.,  629., 1459.,  230.,\n",
       "        298.,  479.,  267.,   67.,  539.,  284.,  239.,  527.,  593.,\n",
       "       1181.,  726.,  691.,  493.,  621.,  243.,  387.,  582.,  962.,\n",
       "        112.,  293.,  199.,  520.,  462.,  173.,  136.,  708.,  620.,\n",
       "        918.,  380.,  166.,  178.,  465.,  102.,   71.,  920.,  600.,\n",
       "        163.,  734.,  135.,  620.,  965.,  438.,  402.,  369.,  362.,\n",
       "        387.,  367.,  267.,  686.,   63.,  313.,  941.,  389.,  239.,\n",
       "        383.,  539.,   68.,  174.,  666.,  162.,  823.,  488.,  502.,\n",
       "        128.,  581.,  185.,  864.,  641.,  378.,  398.,  637.,  957.,\n",
       "        953.,  159., 1103.,  652.,  379.,   46.,  162.,  154.,  710.,\n",
       "        145.,  144.,  256.,  338.,   67.,  381.,  673.,  111.,   62.,\n",
       "        280.,  182.,   83.,  228.,  226.,   90.,  575.,  182.,  561.,\n",
       "        995.,  618.,  315.,  384.,  208.,  240.,  848.,  129.,  713.,\n",
       "        367.,  724.,  375.,   23.,  757.,  544.,  376.,  180.,   71.,\n",
       "        161.,  264.,  293.,  758.,  532.,  656.,  229.,  178.,   29.,\n",
       "        529.,   62.,  189.,  742.,  176.,  356.,  890.,  240.,  301.,\n",
       "        104.,  654.,  141.,  496.,  576.,   89., 1013.,  224.,  492.,\n",
       "        918.,  224.,  626.,  254.,   28.,  530.,  240.,  293.,  297.,\n",
       "        266.,  269.,  270.,  580.,  368.,  457.,  229.,   32.,  709.,\n",
       "        406.,  908.,  428.,   84.])"
      ]
     },
     "execution_count": 64,
     "metadata": {},
     "output_type": "execute_result"
    }
   ],
   "source": [
    "X[pred==0,1]"
   ]
  },
  {
   "cell_type": "code",
   "execution_count": 65,
   "id": "6b61052d",
   "metadata": {},
   "outputs": [
    {
     "data": {
      "image/png": "[encoded data removed]",
      "text/plain": [
       "<Figure size 1000x600 with 1 Axes>"
      ]
     },
     "metadata": {},
     "output_type": "display_data"
    }
   ],
   "source": [
    "plt.figure(figsize = (10,6))\n",
    "\n",
    "plt.scatter(X[pred==0,0],X[pred==0,1],c = 'brown',label = 'cluster 0')\n",
    "plt.scatter(X[pred==1,0],X[pred==1,1],c = 'green',label = 'cluster 1')\n",
    "plt.scatter(X[pred==2,0],X[pred==2,1],c = 'blue',label = 'cluster 2')\n",
    "plt.scatter(X[pred==3,0],X[pred==3,1],c = 'purple',label = 'cluster 3')\n",
    "plt.scatter(kmeans.cluster_centers_[:,0],kmeans.cluster_centers_[:,1],s = 200, c = 'red',label = \"Centroid\")\n",
    "plt.title(\"Customer Cluster\")\n",
    "plt.xlabel(\"Annual income\")\n",
    "plt.ylabel(\"item purchased\")\n",
    "plt.legend()\n",
    "plt.show()\n"
   ]
  },
  {
   "cell_type": "code",
   "execution_count": null,
   "id": "7fcf0b5a",
   "metadata": {},
   "outputs": [],
   "source": [
    "\n"
   ]
  },
  {
   "cell_type": "code",
   "execution_count": null,
   "id": "f01393bf",
   "metadata": {},
   "outputs": [],
   "source": []
  },
  {
   "cell_type": "code",
   "execution_count": null,
   "id": "f8608294",
   "metadata": {},
   "outputs": [],
   "source": []
  },
  {
   "cell_type": "code",
   "execution_count": null,
   "id": "0bd32437",
   "metadata": {},
   "outputs": [],
   "source": []
  },
  {
   "cell_type": "code",
   "execution_count": null,
   "id": "e1835c60",
   "metadata": {},
   "outputs": [],
   "source": []
  },
  {
   "cell_type": "code",
   "execution_count": null,
   "id": "ee97bce9",
   "metadata": {},
   "outputs": [],
   "source": []
  },
  {
   "cell_type": "code",
   "execution_count": null,
   "id": "e3397ca8",
   "metadata": {},
   "outputs": [],
   "source": []
  },
  {
   "cell_type": "code",
   "execution_count": null,
   "id": "ca9ca473",
   "metadata": {},
   "outputs": [],
   "source": []
  },
  {
   "cell_type": "code",
   "execution_count": null,
   "id": "907c8612",
   "metadata": {},
   "outputs": [],
   "source": []
  },
  {
   "cell_type": "code",
   "execution_count": null,
   "id": "028b65e7",
   "metadata": {},
   "outputs": [],
   "source": []
  },
  {
   "cell_type": "code",
   "execution_count": null,
   "id": "b9b4da0f",
   "metadata": {},
   "outputs": [],
   "source": []
  },
  {
   "cell_type": "code",
   "execution_count": null,
   "id": "1ed347fb",
   "metadata": {},
   "outputs": [],
   "source": []
  },
  {
   "cell_type": "code",
   "execution_count": null,
   "id": "8dbac960",
   "metadata": {},
   "outputs": [],
   "source": []
  },
  {
   "cell_type": "code",
   "execution_count": null,
   "id": "0b3bbdfa",
   "metadata": {},
   "outputs": [],
   "source": []
  },
  {
   "cell_type": "code",
   "execution_count": null,
   "id": "f6a8e1c3",
   "metadata": {},
   "outputs": [],
   "source": []
  },
  {
   "cell_type": "code",
   "execution_count": null,
   "id": "af2f3687",
   "metadata": {},
   "outputs": [],
   "source": []
  },
  {
   "cell_type": "code",
   "execution_count": null,
   "id": "9c291ad3",
   "metadata": {},
   "outputs": [],
   "source": []
  },
  {
   "cell_type": "code",
   "execution_count": null,
   "id": "1302d2b5",
   "metadata": {},
   "outputs": [],
   "source": []
  },
  {
   "cell_type": "code",
   "execution_count": null,
   "id": "dc208a6d",
   "metadata": {},
   "outputs": [],
   "source": []
  },
  {
   "cell_type": "code",
   "execution_count": null,
   "id": "02df440e",
   "metadata": {},
   "outputs": [],
   "source": []
  },
  {
   "cell_type": "code",
   "execution_count": null,
   "id": "80145036",
   "metadata": {},
   "outputs": [],
   "source": []
  },
  {
   "cell_type": "code",
   "execution_count": null,
   "id": "de72cc51",
   "metadata": {},
   "outputs": [],
   "source": []
  },
  {
   "cell_type": "code",
   "execution_count": null,
   "id": "d82dac84",
   "metadata": {},
   "outputs": [],
   "source": []
  },
  {
   "cell_type": "code",
   "execution_count": null,
   "id": "a70bf7b0",
   "metadata": {},
   "outputs": [],
   "source": []
  },
  {
   "cell_type": "code",
   "execution_count": null,
   "id": "b38befbd",
   "metadata": {},
   "outputs": [],
   "source": []
  },
  {
   "cell_type": "code",
   "execution_count": null,
   "id": "d0b59eae",
   "metadata": {},
   "outputs": [],
   "source": []
  },
  {
   "cell_type": "code",
   "execution_count": null,
   "id": "7dfae739",
   "metadata": {},
   "outputs": [],
   "source": []
  },
  {
   "cell_type": "code",
   "execution_count": null,
   "id": "a9ef1381",
   "metadata": {},
   "outputs": [],
   "source": []
  },
  {
   "cell_type": "code",
   "execution_count": null,
   "id": "d1d87784",
   "metadata": {},
   "outputs": [],
   "source": []
  },
  {
   "cell_type": "code",
   "execution_count": null,
   "id": "fc2188f7",
   "metadata": {},
   "outputs": [],
   "source": []
  },
  {
   "cell_type": "code",
   "execution_count": null,
   "id": "44bae3d3",
   "metadata": {},
   "outputs": [],
   "source": []
  },
  {
   "cell_type": "code",
   "execution_count": null,
   "id": "fa907c2f",
   "metadata": {},
   "outputs": [],
   "source": []
  },
  {
   "cell_type": "code",
   "execution_count": null,
   "id": "f22df890",
   "metadata": {},
   "outputs": [],
   "source": []
  },
  {
   "cell_type": "code",
   "execution_count": null,
   "id": "1c5c75b5",
   "metadata": {},
   "outputs": [],
   "source": []
  },
  {
   "cell_type": "code",
   "execution_count": null,
   "id": "34dca868",
   "metadata": {},
   "outputs": [],
   "source": []
  },
  {
   "cell_type": "code",
   "execution_count": null,
   "id": "ddce4ae1",
   "metadata": {},
   "outputs": [],
   "source": []
  },
  {
   "cell_type": "code",
   "execution_count": null,
   "id": "97a3253d",
   "metadata": {},
   "outputs": [],
   "source": []
  },
  {
   "cell_type": "code",
   "execution_count": null,
   "id": "9213034f",
   "metadata": {},
   "outputs": [],
   "source": []
  },
  {
   "cell_type": "code",
   "execution_count": null,
   "id": "2d0cbcc1",
   "metadata": {},
   "outputs": [],
   "source": []
  },
  {
   "cell_type": "code",
   "execution_count": null,
   "id": "47218b6a",
   "metadata": {},
   "outputs": [],
   "source": []
  },
  {
   "cell_type": "code",
   "execution_count": null,
   "id": "549a4f11",
   "metadata": {},
   "outputs": [],
   "source": []
  },
  {
   "cell_type": "code",
   "execution_count": null,
   "id": "e0e22b7a",
   "metadata": {},
   "outputs": [],
   "source": []
  },
  {
   "cell_type": "code",
   "execution_count": null,
   "id": "58cbc043",
   "metadata": {},
   "outputs": [],
   "source": []
  },
  {
   "cell_type": "code",
   "execution_count": null,
   "id": "c1f69a2c",
   "metadata": {},
   "outputs": [],
   "source": []
  },
  {
   "cell_type": "code",
   "execution_count": null,
   "id": "f7d9a14b",
   "metadata": {},
   "outputs": [],
   "source": []
  },
  {
   "cell_type": "code",
   "execution_count": null,
   "id": "0d2b4659",
   "metadata": {},
   "outputs": [],
   "source": []
  },
  {
   "cell_type": "code",
   "execution_count": null,
   "id": "98c9e471",
   "metadata": {},
   "outputs": [],
   "source": []
  },
  {
   "cell_type": "code",
   "execution_count": null,
   "id": "b0fb9178",
   "metadata": {},
   "outputs": [],
   "source": []
  },
  {
   "cell_type": "code",
   "execution_count": null,
   "id": "fdc29127",
   "metadata": {},
   "outputs": [],
   "source": []
  },
  {
   "cell_type": "code",
   "execution_count": null,
   "id": "38863664",
   "metadata": {},
   "outputs": [],
   "source": []
  },
  {
   "cell_type": "code",
   "execution_count": null,
   "id": "27731148",
   "metadata": {},
   "outputs": [],
   "source": []
  },
  {
   "cell_type": "code",
   "execution_count": null,
   "id": "0efcbc17",
   "metadata": {},
   "outputs": [],
   "source": []
  },
  {
   "cell_type": "code",
   "execution_count": null,
   "id": "3c8c829f",
   "metadata": {},
   "outputs": [],
   "source": []
  },
  {
   "cell_type": "code",
   "execution_count": null,
   "id": "153e2180",
   "metadata": {},
   "outputs": [],
   "source": []
  },
  {
   "cell_type": "code",
   "execution_count": null,
   "id": "b1e029be",
   "metadata": {},
   "outputs": [],
   "source": []
  },
  {
   "cell_type": "code",
   "execution_count": null,
   "id": "aea04b8f",
   "metadata": {},
   "outputs": [],
   "source": []
  },
  {
   "cell_type": "code",
   "execution_count": null,
   "id": "a6e4ee8a",
   "metadata": {},
   "outputs": [],
   "source": []
  },
  {
   "cell_type": "code",
   "execution_count": null,
   "id": "2e9a375c",
   "metadata": {},
   "outputs": [],
   "source": []
  },
  {
   "cell_type": "code",
   "execution_count": null,
   "id": "1a37c467",
   "metadata": {},
   "outputs": [],
   "source": []
  },
  {
   "cell_type": "code",
   "execution_count": null,
   "id": "9c6ef7cd",
   "metadata": {},
   "outputs": [],
   "source": []
  },
  {
   "cell_type": "code",
   "execution_count": null,
   "id": "65682bc3",
   "metadata": {},
   "outputs": [],
   "source": []
  },
  {
   "cell_type": "code",
   "execution_count": null,
   "id": "55060c5c",
   "metadata": {},
   "outputs": [],
   "source": []
  },
  {
   "cell_type": "code",
   "execution_count": null,
   "id": "e579a34a",
   "metadata": {},
   "outputs": [],
   "source": []
  },
  {
   "cell_type": "code",
   "execution_count": null,
   "id": "d7c83d49",
   "metadata": {},
   "outputs": [],
   "source": []
  },
  {
   "cell_type": "code",
   "execution_count": null,
   "id": "8a4e7b4c",
   "metadata": {},
   "outputs": [],
   "source": []
  },
  {
   "cell_type": "code",
   "execution_count": null,
   "id": "658d9980",
   "metadata": {},
   "outputs": [],
   "source": []
  },
  {
   "cell_type": "code",
   "execution_count": null,
   "id": "1cfea2e4",
   "metadata": {},
   "outputs": [],
   "source": []
  },
  {
   "cell_type": "code",
   "execution_count": null,
   "id": "d8de1864",
   "metadata": {},
   "outputs": [],
   "source": []
  },
  {
   "cell_type": "code",
   "execution_count": null,
   "id": "46fab543",
   "metadata": {},
   "outputs": [],
   "source": []
  },
  {
   "cell_type": "code",
   "execution_count": null,
   "id": "cc9c8d7e",
   "metadata": {},
   "outputs": [],
   "source": []
  },
  {
   "cell_type": "code",
   "execution_count": null,
   "id": "d005549a",
   "metadata": {},
   "outputs": [],
   "source": []
  },
  {
   "cell_type": "code",
   "execution_count": null,
   "id": "092d1d75",
   "metadata": {},
   "outputs": [],
   "source": []
  },
  {
   "cell_type": "code",
   "execution_count": null,
   "id": "1c582794",
   "metadata": {},
   "outputs": [],
   "source": []
  },
  {
   "cell_type": "code",
   "execution_count": null,
   "id": "48d5ed7e",
   "metadata": {},
   "outputs": [],
   "source": []
  },
  {
   "cell_type": "code",
   "execution_count": null,
   "id": "6ed8596c",
   "metadata": {},
   "outputs": [],
   "source": []
  },
  {
   "cell_type": "code",
   "execution_count": null,
   "id": "6e4fc0e9",
   "metadata": {},
   "outputs": [],
   "source": []
  },
  {
   "cell_type": "code",
   "execution_count": null,
   "id": "a7a36d40",
   "metadata": {},
   "outputs": [],
   "source": []
  },
  {
   "cell_type": "code",
   "execution_count": null,
   "id": "c90623af",
   "metadata": {},
   "outputs": [],
   "source": []
  },
  {
   "cell_type": "code",
   "execution_count": null,
   "id": "0cc6ab75",
   "metadata": {},
   "outputs": [],
   "source": []
  },
  {
   "cell_type": "code",
   "execution_count": null,
   "id": "c675c844",
   "metadata": {},
   "outputs": [],
   "source": []
  },
  {
   "cell_type": "code",
   "execution_count": null,
   "id": "853e708e",
   "metadata": {},
   "outputs": [],
   "source": []
  },
  {
   "cell_type": "code",
   "execution_count": null,
   "id": "44af30c6",
   "metadata": {},
   "outputs": [],
   "source": []
  },
  {
   "cell_type": "code",
   "execution_count": null,
   "id": "70cdc356",
   "metadata": {},
   "outputs": [],
   "source": []
  },
  {
   "cell_type": "code",
   "execution_count": null,
   "id": "df1807c8",
   "metadata": {},
   "outputs": [],
   "source": []
  },
  {
   "cell_type": "code",
   "execution_count": null,
   "id": "14e11bac",
   "metadata": {},
   "outputs": [],
   "source": []
  },
  {
   "cell_type": "code",
   "execution_count": null,
   "id": "a0092f3e",
   "metadata": {},
   "outputs": [],
   "source": []
  },
  {
   "cell_type": "code",
   "execution_count": null,
   "id": "46d12381",
   "metadata": {},
   "outputs": [],
   "source": []
  },
  {
   "cell_type": "code",
   "execution_count": null,
   "id": "91ad7598",
   "metadata": {},
   "outputs": [],
   "source": []
  },
  {
   "cell_type": "code",
   "execution_count": null,
   "id": "fd53544a",
   "metadata": {},
   "outputs": [],
   "source": []
  },
  {
   "cell_type": "code",
   "execution_count": null,
   "id": "a724307d",
   "metadata": {},
   "outputs": [],
   "source": []
  },
  {
   "cell_type": "code",
   "execution_count": null,
   "id": "c2533804",
   "metadata": {},
   "outputs": [],
   "source": []
  },
  {
   "cell_type": "code",
   "execution_count": null,
   "id": "b4580c9e",
   "metadata": {},
   "outputs": [],
   "source": []
  },
  {
   "cell_type": "code",
   "execution_count": null,
   "id": "3389a304",
   "metadata": {},
   "outputs": [],
   "source": []
  },
  {
   "cell_type": "code",
   "execution_count": null,
   "id": "1d64b1ed",
   "metadata": {},
   "outputs": [],
   "source": []
  },
  {
   "cell_type": "code",
   "execution_count": null,
   "id": "2ee99039",
   "metadata": {},
   "outputs": [],
   "source": []
  }
 ],
 "metadata": {
  "kernelspec": {
   "display_name": "Python 3 (ipykernel)",
   "language": "python",
   "name": "python3"
  },
  "language_info": {
   "codemirror_mode": {
    "name": "ipython",
    "version": 3
   },
   "file_extension": ".py",
   "mimetype": "text/x-python",
   "name": "python",
   "nbconvert_exporter": "python",
   "pygments_lexer": "ipython3",
   "version": "3.9.13"
  }
 },
 "nbformat": 4,
 "nbformat_minor": 5
}
